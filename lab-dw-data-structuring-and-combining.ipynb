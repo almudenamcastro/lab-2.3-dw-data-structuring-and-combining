{
 "cells": [
  {
   "cell_type": "markdown",
   "id": "25d7736c-ba17-4aff-b6bb-66eba20fbf4e",
   "metadata": {
    "id": "25d7736c-ba17-4aff-b6bb-66eba20fbf4e"
   },
   "source": [
    "# Lab | Data Structuring and Combining Data"
   ]
  },
  {
   "cell_type": "markdown",
   "id": "a2cdfc70-44c8-478c-81e7-2bc43fdf4986",
   "metadata": {
    "id": "a2cdfc70-44c8-478c-81e7-2bc43fdf4986"
   },
   "source": [
    "## Challenge 1: Combining & Cleaning Data\n",
    "\n",
    "In this challenge, we will be working with the customer data from an insurance company, as we did in the two previous labs. The data can be found here:\n",
    "- https://raw.githubusercontent.com/data-bootcamp-v4/data/main/file1.csv\n",
    "\n",
    "But this time, we got new data, which can be found in the following 2 CSV files located at the links below.\n",
    "\n",
    "- https://raw.githubusercontent.com/data-bootcamp-v4/data/main/file2.csv\n",
    "- https://raw.githubusercontent.com/data-bootcamp-v4/data/main/file3.csv\n",
    "\n",
    "Note that you'll need to clean and format the new data.\n",
    "\n",
    "Observation:\n",
    "- One option is to first combine the three datasets and then apply the cleaning function to the new combined dataset\n",
    "- Another option would be to read the clean file you saved in the previous lab, and just clean the two new files and concatenate the three clean datasets"
   ]
  },
  {
   "cell_type": "code",
   "execution_count": 227,
   "id": "492d06e3-92c7-4105-ac72-536db98d3244",
   "metadata": {
    "id": "492d06e3-92c7-4105-ac72-536db98d3244"
   },
   "outputs": [],
   "source": [
    "# import libraries\n",
    "import pandas as pd\n",
    "import re \n",
    "\n",
    "# Load the data\n",
    "client_data = pd.read_csv(\"https://raw.githubusercontent.com/data-bootcamp-v4/data/main/file1.csv\")\n",
    "client_data2 = pd.read_csv(\"https://raw.githubusercontent.com/data-bootcamp-v4/data/main/file2.csv\")\n",
    "client_data3 = pd.read_csv(\"https://raw.githubusercontent.com/data-bootcamp-v4/data/main/file3.csv\")"
   ]
  },
  {
   "cell_type": "code",
   "execution_count": 228,
   "id": "401230ad",
   "metadata": {},
   "outputs": [
    {
     "data": {
      "text/html": [
       "<div>\n",
       "<style scoped>\n",
       "    .dataframe tbody tr th:only-of-type {\n",
       "        vertical-align: middle;\n",
       "    }\n",
       "\n",
       "    .dataframe tbody tr th {\n",
       "        vertical-align: top;\n",
       "    }\n",
       "\n",
       "    .dataframe thead th {\n",
       "        text-align: right;\n",
       "    }\n",
       "</style>\n",
       "<table border=\"1\" class=\"dataframe\">\n",
       "  <thead>\n",
       "    <tr style=\"text-align: right;\">\n",
       "      <th></th>\n",
       "      <th>Customer</th>\n",
       "      <th>State</th>\n",
       "      <th>Customer Lifetime Value</th>\n",
       "      <th>Education</th>\n",
       "      <th>Gender</th>\n",
       "      <th>Income</th>\n",
       "      <th>Monthly Premium Auto</th>\n",
       "      <th>Number of Open Complaints</th>\n",
       "      <th>Policy Type</th>\n",
       "      <th>Total Claim Amount</th>\n",
       "      <th>Vehicle Class</th>\n",
       "    </tr>\n",
       "  </thead>\n",
       "  <tbody>\n",
       "    <tr>\n",
       "      <th>0</th>\n",
       "      <td>SA25987</td>\n",
       "      <td>Washington</td>\n",
       "      <td>3479.137523</td>\n",
       "      <td>High School or Below</td>\n",
       "      <td>M</td>\n",
       "      <td>0</td>\n",
       "      <td>104</td>\n",
       "      <td>0</td>\n",
       "      <td>Personal Auto</td>\n",
       "      <td>499.200000</td>\n",
       "      <td>Two-Door Car</td>\n",
       "    </tr>\n",
       "    <tr>\n",
       "      <th>1</th>\n",
       "      <td>TB86706</td>\n",
       "      <td>Arizona</td>\n",
       "      <td>2502.637401</td>\n",
       "      <td>Master</td>\n",
       "      <td>M</td>\n",
       "      <td>0</td>\n",
       "      <td>66</td>\n",
       "      <td>0</td>\n",
       "      <td>Personal Auto</td>\n",
       "      <td>3.468912</td>\n",
       "      <td>Two-Door Car</td>\n",
       "    </tr>\n",
       "    <tr>\n",
       "      <th>2</th>\n",
       "      <td>ZL73902</td>\n",
       "      <td>Nevada</td>\n",
       "      <td>3265.156348</td>\n",
       "      <td>Bachelor</td>\n",
       "      <td>F</td>\n",
       "      <td>25820</td>\n",
       "      <td>82</td>\n",
       "      <td>0</td>\n",
       "      <td>Personal Auto</td>\n",
       "      <td>393.600000</td>\n",
       "      <td>Four-Door Car</td>\n",
       "    </tr>\n",
       "    <tr>\n",
       "      <th>3</th>\n",
       "      <td>KX23516</td>\n",
       "      <td>California</td>\n",
       "      <td>4455.843406</td>\n",
       "      <td>High School or Below</td>\n",
       "      <td>F</td>\n",
       "      <td>0</td>\n",
       "      <td>121</td>\n",
       "      <td>0</td>\n",
       "      <td>Personal Auto</td>\n",
       "      <td>699.615192</td>\n",
       "      <td>SUV</td>\n",
       "    </tr>\n",
       "    <tr>\n",
       "      <th>4</th>\n",
       "      <td>FN77294</td>\n",
       "      <td>California</td>\n",
       "      <td>7704.958480</td>\n",
       "      <td>High School or Below</td>\n",
       "      <td>M</td>\n",
       "      <td>30366</td>\n",
       "      <td>101</td>\n",
       "      <td>2</td>\n",
       "      <td>Personal Auto</td>\n",
       "      <td>484.800000</td>\n",
       "      <td>SUV</td>\n",
       "    </tr>\n",
       "  </tbody>\n",
       "</table>\n",
       "</div>"
      ],
      "text/plain": [
       "  Customer       State  Customer Lifetime Value             Education Gender  \\\n",
       "0  SA25987  Washington              3479.137523  High School or Below      M   \n",
       "1  TB86706     Arizona              2502.637401                Master      M   \n",
       "2  ZL73902      Nevada              3265.156348              Bachelor      F   \n",
       "3  KX23516  California              4455.843406  High School or Below      F   \n",
       "4  FN77294  California              7704.958480  High School or Below      M   \n",
       "\n",
       "   Income  Monthly Premium Auto  Number of Open Complaints    Policy Type  \\\n",
       "0       0                   104                          0  Personal Auto   \n",
       "1       0                    66                          0  Personal Auto   \n",
       "2   25820                    82                          0  Personal Auto   \n",
       "3       0                   121                          0  Personal Auto   \n",
       "4   30366                   101                          2  Personal Auto   \n",
       "\n",
       "   Total Claim Amount  Vehicle Class  \n",
       "0          499.200000   Two-Door Car  \n",
       "1            3.468912   Two-Door Car  \n",
       "2          393.600000  Four-Door Car  \n",
       "3          699.615192            SUV  \n",
       "4          484.800000            SUV  "
      ]
     },
     "execution_count": 228,
     "metadata": {},
     "output_type": "execute_result"
    }
   ],
   "source": [
    "# Explore the df\n",
    "\n",
    "client_data.head()\n",
    "client_data2.head()\n",
    "client_data3.head()\n",
    "\n"
   ]
  },
  {
   "cell_type": "code",
   "execution_count": 229,
   "id": "45015988",
   "metadata": {},
   "outputs": [
    {
     "name": "stdout",
     "output_type": "stream",
     "text": [
      "Index(['customer', 'state', 'gender', 'education', 'customer_lifetime_value',\n",
      "       'income', 'monthly_premium_auto', 'number_of_open_complaints',\n",
      "       'policy_type', 'vehicle_class', 'total_claim_amount'],\n",
      "      dtype='object')\n",
      "Index(['customer', 'state', 'gender', 'education', 'customer_lifetime_value',\n",
      "       'income', 'monthly_premium_auto', 'number_of_open_complaints',\n",
      "       'total_claim_amount', 'policy_type', 'vehicle_class'],\n",
      "      dtype='object')\n",
      "Index(['customer', 'state', 'customer_lifetime_value', 'education', 'gender',\n",
      "       'income', 'monthly_premium_auto', 'number_of_open_complaints',\n",
      "       'policy_type', 'total_claim_amount', 'vehicle_class'],\n",
      "      dtype='object')\n"
     ]
    }
   ],
   "source": [
    "# Clean column names. \n",
    "# Al the sets seem to contain the same kind of data, but the columns names are a bit differentWe need to standardise them\n",
    "for df in [client_data, client_data2, client_data3]: \n",
    "    df.columns = df.columns.str.strip().str.replace(\"ST\", \"state\").str.lower().str.replace(' ', '_')\n",
    "\n",
    "print(client_data.columns)\n",
    "print(client_data2.columns)\n",
    "print(client_data3.columns)"
   ]
  },
  {
   "cell_type": "code",
   "execution_count": 230,
   "id": "fc2ad2e0",
   "metadata": {},
   "outputs": [],
   "source": [
    "\n",
    "# Combine the dataframes\n",
    "# We can now concatenate the dataframes together\n",
    "\n",
    "client_data_123 = pd.concat([client_data, client_data2, client_data3], ignore_index=True)"
   ]
  },
  {
   "cell_type": "code",
   "execution_count": 231,
   "id": "b201797a",
   "metadata": {},
   "outputs": [
    {
     "name": "stdout",
     "output_type": "stream",
     "text": [
      "<class 'pandas.core.frame.DataFrame'>\n",
      "RangeIndex: 12074 entries, 0 to 12073\n",
      "Data columns (total 11 columns):\n",
      " #   Column                     Non-Null Count  Dtype  \n",
      "---  ------                     --------------  -----  \n",
      " 0   customer                   9137 non-null   object \n",
      " 1   state                      9137 non-null   object \n",
      " 2   gender                     9015 non-null   object \n",
      " 3   education                  9137 non-null   object \n",
      " 4   customer_lifetime_value    9130 non-null   object \n",
      " 5   income                     9137 non-null   float64\n",
      " 6   monthly_premium_auto       9137 non-null   float64\n",
      " 7   number_of_open_complaints  9137 non-null   object \n",
      " 8   policy_type                9137 non-null   object \n",
      " 9   vehicle_class              9137 non-null   object \n",
      " 10  total_claim_amount         9137 non-null   float64\n",
      "dtypes: float64(3), object(8)\n",
      "memory usage: 1.0+ MB\n"
     ]
    }
   ],
   "source": [
    "# Clean the data\n",
    "# Start by exploring the data\n",
    "client_data_123.info()\n"
   ]
  },
  {
   "cell_type": "code",
   "execution_count": 232,
   "id": "2373fe0c",
   "metadata": {},
   "outputs": [
    {
     "data": {
      "text/plain": [
       "customer                       0\n",
       "state                          0\n",
       "gender                       122\n",
       "education                      0\n",
       "customer_lifetime_value        7\n",
       "income                         0\n",
       "monthly_premium_auto           0\n",
       "number_of_open_complaints      0\n",
       "policy_type                    0\n",
       "vehicle_class                  0\n",
       "total_claim_amount             0\n",
       "dtype: int64"
      ]
     },
     "execution_count": 232,
     "metadata": {},
     "output_type": "execute_result"
    }
   ],
   "source": [
    "\n",
    "# 1 Remove empty rows. \n",
    "# We can use the `dropna()` function in pandas to remove null values\n",
    "client_data_123 = client_data_123.dropna(how=\"all\")\n",
    "\n",
    "# We can use the `isnull()` function to check for remaining null values\n",
    "# only gender and customer_lifetime_value have null values. \n",
    "client_data_123.isnull().sum()\n"
   ]
  },
  {
   "cell_type": "code",
   "execution_count": 233,
   "id": "348ec19b",
   "metadata": {},
   "outputs": [],
   "source": [
    "# 2 Cleaning invalid values and correct data types: \n",
    "\n",
    "# 2.1 state: We can use the `replace()` function to replace the values\n",
    "client_data_123.state=client_data_123.state.replace({\"WA\": \"Washington\", \"AZ\":\"Arizona\", \"Cali\": \"California\"})\n",
    "client_data_123.state.unique()\n",
    "\n",
    "# 2.2 gender: Replace invalid values and fill in the missing values:\n",
    "client_data_123.gender = client_data_123.gender.apply(lambda x: x[0].upper() if isinstance(x, str) else \"unspecified\")\n",
    "client_data_123.gender.unique()\n",
    "\n",
    "# 2.3 education: Replace invalid values\n",
    "client_data_123.education = client_data_123.education.replace({\"Bachelors\": \"Bachelor\"})\n",
    "client_data_123.education.unique()\n",
    "\n",
    "# 2.4 customer_lifetime_value: Correct data type and fill in null values with the median value. \n",
    "client_data_123.customer_lifetime_value = pd.to_numeric(client_data_123.customer_lifetime_value.str.replace(\"%\", \"\"), errors=\"coerce\")\n",
    "client_data_123.customer_lifetime_value = client_data_123.customer_lifetime_value.fillna(client_data_123.customer_lifetime_value.median())\n",
    "\n",
    "# 2.5 income: nothing to clean on first sight\n",
    "\n",
    "# 2.6 monthly_premium_auto: nothing to clean on first sight\n",
    "\n",
    "# 2.7 number_of_open_complaints\n",
    "client_data_123.number_of_open_complaints = pd.to_numeric(client_data_123.number_of_open_complaints.apply(lambda x: x.split(\"/\")[1] if isinstance(x, str) else x), errors=\"coerce\")\n",
    "\n",
    "# 2.9 policy_type: nothing to change\n",
    "\n",
    "# 2.10 vehicle_class: update classes to grupo some under \"luxury\"\n",
    "client_data_123.vehicle_class = client_data_123.vehicle_class.replace({\"Sports Car\": \"Luxury\",\"Luxury SUV\":\"Luxury\",\"Luxury Car\":\"Luxury\"})\n",
    "\n",
    "\n",
    "# 2.11 total_claim_amount: nothing to change\n"
   ]
  },
  {
   "cell_type": "code",
   "execution_count": 234,
   "id": "f01b7fd4",
   "metadata": {},
   "outputs": [
    {
     "name": "stdout",
     "output_type": "stream",
     "text": [
      "<class 'pandas.core.frame.DataFrame'>\n",
      "Index: 9137 entries, 0 to 12073\n",
      "Data columns (total 11 columns):\n",
      " #   Column                     Non-Null Count  Dtype  \n",
      "---  ------                     --------------  -----  \n",
      " 0   customer                   9137 non-null   object \n",
      " 1   state                      9137 non-null   object \n",
      " 2   gender                     9137 non-null   object \n",
      " 3   education                  9137 non-null   object \n",
      " 4   customer_lifetime_value    9137 non-null   float64\n",
      " 5   income                     9137 non-null   float64\n",
      " 6   monthly_premium_auto       9137 non-null   float64\n",
      " 7   number_of_open_complaints  9137 non-null   int64  \n",
      " 8   policy_type                9137 non-null   object \n",
      " 9   vehicle_class              9137 non-null   object \n",
      " 10  total_claim_amount         9137 non-null   float64\n",
      "dtypes: float64(4), int64(1), object(6)\n",
      "memory usage: 856.6+ KB\n"
     ]
    }
   ],
   "source": [
    "client_data_123.info()"
   ]
  },
  {
   "cell_type": "markdown",
   "id": "31b8a9e7-7db9-4604-991b-ef6771603e57",
   "metadata": {
    "id": "31b8a9e7-7db9-4604-991b-ef6771603e57"
   },
   "source": [
    "# Challenge 2: Structuring Data"
   ]
  },
  {
   "cell_type": "markdown",
   "id": "a877fd6d-7a0c-46d2-9657-f25036e4ca4b",
   "metadata": {
    "id": "a877fd6d-7a0c-46d2-9657-f25036e4ca4b"
   },
   "source": [
    "In this challenge, we will continue to work with customer data from an insurance company, but we will use a dataset with more columns, called marketing_customer_analysis.csv, which can be found at the following link:\n",
    "\n",
    "https://raw.githubusercontent.com/data-bootcamp-v4/data/main/marketing_customer_analysis_clean.csv\n",
    "\n",
    "This dataset contains information such as customer demographics, policy details, vehicle information, and the customer's response to the last marketing campaign. Our goal is to explore and analyze this data by performing data cleaning, formatting, and structuring."
   ]
  },
  {
   "cell_type": "code",
   "execution_count": 235,
   "id": "aa10d9b0-1c27-4d3f-a8e4-db6ab73bfd26",
   "metadata": {
    "id": "aa10d9b0-1c27-4d3f-a8e4-db6ab73bfd26"
   },
   "outputs": [],
   "source": [
    "# Load data from url\n",
    "marketing_customer_analysis = pd.read_csv(\"https://raw.githubusercontent.com/data-bootcamp-v4/data/main/marketing_customer_analysis_clean.csv\")"
   ]
  },
  {
   "cell_type": "code",
   "execution_count": 236,
   "id": "e80d5fd0",
   "metadata": {},
   "outputs": [
    {
     "name": "stdout",
     "output_type": "stream",
     "text": [
      "<class 'pandas.core.frame.DataFrame'>\n",
      "RangeIndex: 10910 entries, 0 to 10909\n",
      "Data columns (total 27 columns):\n",
      " #   Column                         Non-Null Count  Dtype  \n",
      "---  ------                         --------------  -----  \n",
      " 0   unnamed:_0                     10910 non-null  int64  \n",
      " 1   customer                       10910 non-null  object \n",
      " 2   state                          10910 non-null  object \n",
      " 3   customer_lifetime_value        10910 non-null  float64\n",
      " 4   response                       10910 non-null  object \n",
      " 5   coverage                       10910 non-null  object \n",
      " 6   education                      10910 non-null  object \n",
      " 7   effective_to_date              10910 non-null  object \n",
      " 8   employmentstatus               10910 non-null  object \n",
      " 9   gender                         10910 non-null  object \n",
      " 10  income                         10910 non-null  int64  \n",
      " 11  location_code                  10910 non-null  object \n",
      " 12  marital_status                 10910 non-null  object \n",
      " 13  monthly_premium_auto           10910 non-null  int64  \n",
      " 14  months_since_last_claim        10910 non-null  float64\n",
      " 15  months_since_policy_inception  10910 non-null  int64  \n",
      " 16  number_of_open_complaints      10910 non-null  float64\n",
      " 17  number_of_policies             10910 non-null  int64  \n",
      " 18  policy_type                    10910 non-null  object \n",
      " 19  policy                         10910 non-null  object \n",
      " 20  renew_offer_type               10910 non-null  object \n",
      " 21  sales_channel                  10910 non-null  object \n",
      " 22  total_claim_amount             10910 non-null  float64\n",
      " 23  vehicle_class                  10910 non-null  object \n",
      " 24  vehicle_size                   10910 non-null  object \n",
      " 25  vehicle_type                   10910 non-null  object \n",
      " 26  month                          10910 non-null  int64  \n",
      "dtypes: float64(4), int64(6), object(17)\n",
      "memory usage: 2.2+ MB\n",
      "unnamed:_0 [    0     1     2 ... 10907 10908 10909]\n",
      "customer ['DK49336' 'KX64629' 'LZ68649' ... 'KX53892' 'TL39050' 'WA60547']\n",
      "state ['Arizona' 'California' 'Washington' 'Oregon' 'Nevada']\n",
      "customer_lifetime_value [ 4809.21696   2228.525238 14947.9173   ...  5259.444853 23893.3041\n",
      " 11971.97765 ]\n",
      "response ['No' 'Yes']\n",
      "coverage ['Basic' 'Extended' 'Premium']\n",
      "education ['College' 'Bachelor' 'High School or Below' 'Doctor' 'Master']\n",
      "effective_to_date ['2011-02-18' '2011-01-18' '2011-02-10' '2011-01-11' '2011-01-17'\n",
      " '2011-02-14' '2011-02-24' '2011-01-19' '2011-01-04' '2011-01-02'\n",
      " '2011-02-07' '2011-01-31' '2011-01-26' '2011-02-28' '2011-01-16'\n",
      " '2011-02-26' '2011-02-23' '2011-01-15' '2011-02-02' '2011-02-15'\n",
      " '2011-01-24' '2011-02-21' '2011-02-22' '2011-01-07' '2011-01-28'\n",
      " '2011-02-08' '2011-02-12' '2011-02-20' '2011-01-05' '2011-02-19'\n",
      " '2011-01-03' '2011-02-03' '2011-01-22' '2011-01-23' '2011-02-05'\n",
      " '2011-02-13' '2011-01-25' '2011-02-16' '2011-02-01' '2011-01-27'\n",
      " '2011-01-12' '2011-01-20' '2011-02-06' '2011-02-11' '2011-01-21'\n",
      " '2011-01-29' '2011-01-09' '2011-02-09' '2011-02-27' '2011-01-01'\n",
      " '2011-02-17' '2011-02-25' '2011-01-13' '2011-01-06' '2011-02-04'\n",
      " '2011-01-14' '2011-01-10' '2011-01-08' '2011-01-30']\n",
      "employmentstatus ['Employed' 'Unemployed' 'Medical Leave' 'Disabled' 'Retired']\n",
      "gender ['M' 'F']\n",
      "income [48029     0 22139 ... 61146 39837 64195]\n",
      "location_code ['Suburban' 'Urban' 'Rural']\n",
      "marital_status ['Married' 'Single' 'Divorced']\n",
      "monthly_premium_auto [ 61  64 100  97 117  63 154  85 127  62  99  69 116 114  66  73  94 104\n",
      " 189  74 121 110 111  72 115 159 101  65  82  71 126  68 199  96  67 125\n",
      " 249 105  92  78  77  79 223 242  70 102 109 107 119 194 113 106 247  80\n",
      "  86  81  83 122 253 196 132 139  84 130  93 103 112 222 118  88 182 283\n",
      "  90 128  89 235 190  76  87 133 153 129  98 148 123  91 211 131 108 187\n",
      " 214 181 173 252  95 124 137 145 188 143 198 138 245 195 186 170 136 161\n",
      " 157 141 205 271 192 142 140 134 240 185 244 210 184 202 296 213 273 219\n",
      " 135 169 155 225 266 215 197 256 212 158 180 166 168 183 162 191 179 150\n",
      " 146 276 165 239 237 193 229 274 207 295 208 172 217 206 201 171 152 156\n",
      " 174 238 167 151 144 163 287 209 290 220 228 232 178 177 275 176 281 149\n",
      " 298 255 216 285 226 160 147 254 164 175 297 234 284 204 218 261 231 248\n",
      " 286 230 268 203]\n",
      "months_since_last_claim [ 7.          3.         34.         10.         15.14907074  2.\n",
      "  8.         35.         33.         19.         13.          5.\n",
      " 24.         25.          6.         20.         26.         14.\n",
      "  9.         29.         11.          1.         18.         16.\n",
      " 30.         12.          4.         22.         31.         21.\n",
      " 28.         17.         15.         32.         23.         27.\n",
      "  0.        ]\n",
      "months_since_policy_inception [52 26 31  3 73 99 45 24  8 29 32 25 28 87 10 74  1 38 58 37  7 80 95 78\n",
      " 63 27 97 39 11 59 46 62 13 54 51 22 82 91 44 43 76 48 84  6 92 12 61  4\n",
      " 18 66 70 16 75 34 35 64  9 89  0 60 71 23 55 93  2 67 81 40 57 86 19 72\n",
      " 69 33 47 42 17 49 21 83 94 30 15 50 53 77 41 90  5 79 56 98 20 88 65 14\n",
      " 85 96 36 68]\n",
      "number_of_open_complaints [0.         0.38425611 3.         1.         2.         4.\n",
      " 5.        ]\n",
      "number_of_policies [9 1 2 7 4 3 6 8 5]\n",
      "policy_type ['Corporate Auto' 'Personal Auto' 'Special Auto']\n",
      "policy ['Corporate L3' 'Personal L3' 'Personal L2' 'Corporate L2' 'Personal L1'\n",
      " 'Special L1' 'Corporate L1' 'Special L3' 'Special L2']\n",
      "renew_offer_type ['Offer3' 'Offer4' 'Offer2' 'Offer1']\n",
      "sales_channel ['Agent' 'Call Center' 'Branch' 'Web']\n",
      "total_claim_amount [292.8      744.924331 480.       ... 273.018929 381.306996 618.288849]\n",
      "vehicle_class ['Four-Door Car' 'SUV' 'Two-Door Car' 'Sports Car' 'Luxury Car'\n",
      " 'Luxury SUV']\n",
      "vehicle_size ['Medsize' 'Small' 'Large']\n",
      "vehicle_type ['A']\n",
      "month [2 1]\n"
     ]
    }
   ],
   "source": [
    "# Explore the data to understand it and clean it\n",
    "marketing_customer_analysis.info()\n",
    "\n",
    "for column in marketing_customer_analysis.columns: \n",
    "    print(column, marketing_customer_analysis[column].unique())"
   ]
  },
  {
   "cell_type": "code",
   "execution_count": 237,
   "id": "c133a54f",
   "metadata": {},
   "outputs": [],
   "source": [
    "# Everything seems correct except for:\n",
    "# * the unnamed:_0 column which looks like an old index and should be removed. \n",
    "marketing_customer_analysis = marketing_customer_analysis.drop(columns=[\"unnamed:_0\"])\n",
    "# * one of the column names (employmentstatus)\n",
    "marketing_customer_analysis.rename(columns={\"employmentstatus\":\"employment_status\"}, inplace=True)\n",
    "# * number_of_open_complaints which should be an int \n",
    "marketing_customer_analysis.number_of_open_complaints = marketing_customer_analysis.number_of_open_complaints.apply(lambda x: round(x)).astype(int)\n",
    "# * months_since_last_claim which should be an int.\n",
    "marketing_customer_analysis.months_since_last_claim = marketing_customer_analysis.months_since_last_claim.apply(lambda x: round(x)).astype(int)\n",
    "# * total_claim_amount could be standardised to 2 decimal places. \n",
    "marketing_customer_analysis.total_claim_amount = marketing_customer_analysis.total_claim_amount.apply(lambda x: round(x, 2))"
   ]
  },
  {
   "cell_type": "markdown",
   "id": "df35fd0d-513e-4e77-867e-429da10a9cc7",
   "metadata": {
    "id": "df35fd0d-513e-4e77-867e-429da10a9cc7"
   },
   "source": [
    "1. You work at the marketing department and you want to know which sales channel brought the most sales in terms of total revenue. Using pivot, create a summary table showing the total revenue for each sales channel (branch, call center, web, and mail).\n",
    "Round the total revenue to 2 decimal points.  Analyze the resulting table to draw insights."
   ]
  },
  {
   "cell_type": "code",
   "execution_count": 238,
   "id": "361c8372",
   "metadata": {},
   "outputs": [
    {
     "data": {
      "text/html": [
       "<div>\n",
       "<style scoped>\n",
       "    .dataframe tbody tr th:only-of-type {\n",
       "        vertical-align: middle;\n",
       "    }\n",
       "\n",
       "    .dataframe tbody tr th {\n",
       "        vertical-align: top;\n",
       "    }\n",
       "\n",
       "    .dataframe thead th {\n",
       "        text-align: right;\n",
       "    }\n",
       "</style>\n",
       "<table border=\"1\" class=\"dataframe\">\n",
       "  <thead>\n",
       "    <tr style=\"text-align: right;\">\n",
       "      <th>sales_channel</th>\n",
       "      <th>Agent</th>\n",
       "      <th>Branch</th>\n",
       "      <th>Call Center</th>\n",
       "      <th>Web</th>\n",
       "    </tr>\n",
       "  </thead>\n",
       "  <tbody>\n",
       "    <tr>\n",
       "      <th>monthly_premium_auto</th>\n",
       "      <td>386335</td>\n",
       "      <td>280953</td>\n",
       "      <td>197970</td>\n",
       "      <td>151511</td>\n",
       "    </tr>\n",
       "  </tbody>\n",
       "</table>\n",
       "</div>"
      ],
      "text/plain": [
       "sales_channel          Agent  Branch  Call Center     Web\n",
       "monthly_premium_auto  386335  280953       197970  151511"
      ]
     },
     "execution_count": 238,
     "metadata": {},
     "output_type": "execute_result"
    }
   ],
   "source": [
    "# total revenue for each sales channel. \n",
    "\n",
    "marketing_customer_analysis.groupby(\"sales_channel\").monthly_premium_auto.sum().astype(float).apply(lambda x: round(x,2))\n",
    "\n",
    "pivot_revenue = marketing_customer_analysis.pivot_table(columns='sales_channel', values=['monthly_premium_auto'], aggfunc='sum')\n",
    "pivot_revenue"
   ]
  },
  {
   "cell_type": "markdown",
   "id": "640993b2-a291-436c-a34d-a551144f8196",
   "metadata": {
    "id": "640993b2-a291-436c-a34d-a551144f8196"
   },
   "source": [
    "2. Create a pivot table that shows the average customer lifetime value per gender and education level. Analyze the resulting table to draw insights."
   ]
  },
  {
   "cell_type": "code",
   "execution_count": 240,
   "id": "0c1d1763",
   "metadata": {},
   "outputs": [
    {
     "data": {
      "text/html": [
       "<div>\n",
       "<style scoped>\n",
       "    .dataframe tbody tr th:only-of-type {\n",
       "        vertical-align: middle;\n",
       "    }\n",
       "\n",
       "    .dataframe tbody tr th {\n",
       "        vertical-align: top;\n",
       "    }\n",
       "\n",
       "    .dataframe thead tr th {\n",
       "        text-align: left;\n",
       "    }\n",
       "\n",
       "    .dataframe thead tr:last-of-type th {\n",
       "        text-align: right;\n",
       "    }\n",
       "</style>\n",
       "<table border=\"1\" class=\"dataframe\">\n",
       "  <thead>\n",
       "    <tr>\n",
       "      <th></th>\n",
       "      <th colspan=\"5\" halign=\"left\">customer_lifetime_value</th>\n",
       "    </tr>\n",
       "    <tr>\n",
       "      <th>education</th>\n",
       "      <th>Bachelor</th>\n",
       "      <th>College</th>\n",
       "      <th>Doctor</th>\n",
       "      <th>High School or Below</th>\n",
       "      <th>Master</th>\n",
       "    </tr>\n",
       "    <tr>\n",
       "      <th>gender</th>\n",
       "      <th></th>\n",
       "      <th></th>\n",
       "      <th></th>\n",
       "      <th></th>\n",
       "      <th></th>\n",
       "    </tr>\n",
       "  </thead>\n",
       "  <tbody>\n",
       "    <tr>\n",
       "      <th>F</th>\n",
       "      <td>7874.269478</td>\n",
       "      <td>7748.823325</td>\n",
       "      <td>7328.508916</td>\n",
       "      <td>8675.220201</td>\n",
       "      <td>8157.053154</td>\n",
       "    </tr>\n",
       "    <tr>\n",
       "      <th>M</th>\n",
       "      <td>7703.601675</td>\n",
       "      <td>8052.459288</td>\n",
       "      <td>7415.333638</td>\n",
       "      <td>8149.687783</td>\n",
       "      <td>8168.832659</td>\n",
       "    </tr>\n",
       "  </tbody>\n",
       "</table>\n",
       "</div>"
      ],
      "text/plain": [
       "          customer_lifetime_value                            \\\n",
       "education                Bachelor      College       Doctor   \n",
       "gender                                                        \n",
       "F                     7874.269478  7748.823325  7328.508916   \n",
       "M                     7703.601675  8052.459288  7415.333638   \n",
       "\n",
       "                                             \n",
       "education High School or Below       Master  \n",
       "gender                                       \n",
       "F                  8675.220201  8157.053154  \n",
       "M                  8149.687783  8168.832659  "
      ]
     },
     "execution_count": 240,
     "metadata": {},
     "output_type": "execute_result"
    }
   ],
   "source": [
    "pivot_lifetime_value = marketing_customer_analysis.pivot_table(index='gender', columns='education', values=['customer_lifetime_value'], aggfunc='mean')\n",
    "pivot_lifetime_value"
   ]
  },
  {
   "cell_type": "markdown",
   "id": "32c7f2e5-3d90-43e5-be33-9781b6069198",
   "metadata": {
    "id": "32c7f2e5-3d90-43e5-be33-9781b6069198"
   },
   "source": [
    "## Bonus\n",
    "\n",
    "You work at the customer service department and you want to know which months had the highest number of complaints by policy type category. Create a summary table showing the number of complaints by policy type and month.\n",
    "Show it in a long format table."
   ]
  },
  {
   "cell_type": "markdown",
   "id": "e3d09a8f-953c-448a-a5f8-2e5a8cca7291",
   "metadata": {
    "id": "e3d09a8f-953c-448a-a5f8-2e5a8cca7291"
   },
   "source": [
    "*In data analysis, a long format table is a way of structuring data in which each observation or measurement is stored in a separate row of the table. The key characteristic of a long format table is that each column represents a single variable, and each row represents a single observation of that variable.*\n",
    "\n",
    "*More information about long and wide format tables here: https://www.statology.org/long-vs-wide-data/*"
   ]
  },
  {
   "cell_type": "code",
   "execution_count": 152,
   "id": "3a069e0b-b400-470e-904d-d17582191be4",
   "metadata": {
    "id": "3a069e0b-b400-470e-904d-d17582191be4"
   },
   "outputs": [],
   "source": [
    "# Your code goes here"
   ]
  }
 ],
 "metadata": {
  "colab": {
   "provenance": []
  },
  "kernelspec": {
   "display_name": "Python 3 (ipykernel)",
   "language": "python",
   "name": "python3"
  },
  "language_info": {
   "codemirror_mode": {
    "name": "ipython",
    "version": 3
   },
   "file_extension": ".py",
   "mimetype": "text/x-python",
   "name": "python",
   "nbconvert_exporter": "python",
   "pygments_lexer": "ipython3",
   "version": "3.12.4"
  }
 },
 "nbformat": 4,
 "nbformat_minor": 5
}
